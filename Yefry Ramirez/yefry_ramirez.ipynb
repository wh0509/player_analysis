{
 "cells": [
  {
   "cell_type": "markdown",
   "metadata": {},
   "source": [
    "# 한화 이글스 새로운 투수 Yefry Ramirez의 데이터 분석"
   ]
  },
  {
   "cell_type": "markdown",
   "metadata": {
    "slideshow": {
     "slide_type": "slide"
    },
    "tags": []
   },
   "source": [
    "# 1. 패키지 import"
   ]
  },
  {
   "cell_type": "code",
   "execution_count": 32,
   "metadata": {
    "jupyter": {
     "source_hidden": true
    },
    "slideshow": {
     "slide_type": "slide"
    },
    "tags": []
   },
   "outputs": [],
   "source": [
    "import sys\n",
    "sys.path.append(\"D:\\\\library\")\n",
    "\n",
    "import pandas as pd\n",
    "import decimal\n",
    "ctx = decimal.getcontext()\n",
    "ctx.rounding = decimal.ROUND_UP\n",
    "from statistics import mean\n",
    "\n",
    "from IPython.display import display, HTML\n",
    "import seaborn as sns\n",
    "import warnings\n",
    "warnings.filterwarnings('ignore')\n",
    "\n",
    "from baseball_library.kbo.DBControler import connect_db\n",
    "conn, engine = connect_db()"
   ]
  },
  {
   "cell_type": "markdown",
   "metadata": {},
   "source": [
    "# 2. 선수 데이터 불러오기"
   ]
  },
  {
   "cell_type": "code",
   "execution_count": 2,
   "metadata": {
    "jupyter": {
     "source_hidden": true
    },
    "tags": []
   },
   "outputs": [],
   "source": [
    "player_id=606162\n",
    "game_year=2022\n",
    "\n",
    "aaa_total_pbp_df = pd.read_sql(\"\"\"select * from mlb.pbp where league='aaa' and game_year={} and event_type='pitch'\"\"\".format(game_year), engine)\n",
    "aaa_total_boxscore_batter_df = pd.read_sql(\"\"\" select * from mlb.batter_boxscore as mbb\n",
    "                                            left join mlb.games as mg on mbb.game_pk=mg.game_pk\n",
    "                                            where mg.game_year={} and mbb.level='aaa'\n",
    "                                            \"\"\".format(game_year), engine)"
   ]
  },
  {
   "cell_type": "markdown",
   "metadata": {},
   "source": [
    "## 2.1. 구종정보"
   ]
  },
  {
   "cell_type": "markdown",
   "metadata": {},
   "source": [
    "### 1) 리그 우투수 평균"
   ]
  },
  {
   "cell_type": "code",
   "execution_count": 3,
   "metadata": {
    "jupyter": {
     "source_hidden": true
    },
    "tags": []
   },
   "outputs": [
    {
     "data": {
      "text/html": [
       "<div>\n",
       "<style scoped>\n",
       "    .dataframe tbody tr th:only-of-type {\n",
       "        vertical-align: middle;\n",
       "    }\n",
       "\n",
       "    .dataframe tbody tr th {\n",
       "        vertical-align: top;\n",
       "    }\n",
       "\n",
       "    .dataframe thead th {\n",
       "        text-align: right;\n",
       "    }\n",
       "</style>\n",
       "<table border=\"1\" class=\"dataframe\">\n",
       "  <thead>\n",
       "    <tr style=\"text-align: right;\">\n",
       "      <th></th>\n",
       "      <th>pitch_type</th>\n",
       "      <th>np</th>\n",
       "      <th>percent</th>\n",
       "      <th>avg_speed</th>\n",
       "      <th>avg_vertical_break</th>\n",
       "      <th>avg_horizontal_break</th>\n",
       "      <th>avg_spin_rate</th>\n",
       "      <th>extension</th>\n",
       "    </tr>\n",
       "  </thead>\n",
       "  <tbody>\n",
       "    <tr>\n",
       "      <th>0</th>\n",
       "      <td>FF</td>\n",
       "      <td>20010</td>\n",
       "      <td>24.66</td>\n",
       "      <td>149.5</td>\n",
       "      <td>22.7</td>\n",
       "      <td>10.4</td>\n",
       "      <td>2253</td>\n",
       "      <td>1.95</td>\n",
       "    </tr>\n",
       "    <tr>\n",
       "      <th>1</th>\n",
       "      <td>SL</td>\n",
       "      <td>12607</td>\n",
       "      <td>15.54</td>\n",
       "      <td>133.6</td>\n",
       "      <td>2.6</td>\n",
       "      <td>-7.2</td>\n",
       "      <td>2370</td>\n",
       "      <td>1.90</td>\n",
       "    </tr>\n",
       "    <tr>\n",
       "      <th>3</th>\n",
       "      <td>SI</td>\n",
       "      <td>8514</td>\n",
       "      <td>10.49</td>\n",
       "      <td>148.3</td>\n",
       "      <td>13.1</td>\n",
       "      <td>21.8</td>\n",
       "      <td>2119</td>\n",
       "      <td>1.90</td>\n",
       "    </tr>\n",
       "    <tr>\n",
       "      <th>4</th>\n",
       "      <td>CH</td>\n",
       "      <td>6816</td>\n",
       "      <td>8.40</td>\n",
       "      <td>135.1</td>\n",
       "      <td>9.2</td>\n",
       "      <td>18.5</td>\n",
       "      <td>1775</td>\n",
       "      <td>1.93</td>\n",
       "    </tr>\n",
       "    <tr>\n",
       "      <th>2</th>\n",
       "      <td>CU</td>\n",
       "      <td>5726</td>\n",
       "      <td>7.06</td>\n",
       "      <td>125.3</td>\n",
       "      <td>-12.3</td>\n",
       "      <td>-9.7</td>\n",
       "      <td>2375</td>\n",
       "      <td>1.91</td>\n",
       "    </tr>\n",
       "  </tbody>\n",
       "</table>\n",
       "</div>"
      ],
      "text/plain": [
       "  pitch_type     np  percent  avg_speed  avg_vertical_break  \\\n",
       "0         FF  20010    24.66      149.5                22.7   \n",
       "1         SL  12607    15.54      133.6                 2.6   \n",
       "3         SI   8514    10.49      148.3                13.1   \n",
       "4         CH   6816     8.40      135.1                 9.2   \n",
       "2         CU   5726     7.06      125.3               -12.3   \n",
       "\n",
       "   avg_horizontal_break  avg_spin_rate  extension  \n",
       "0                  10.4           2253       1.95  \n",
       "1                  -7.2           2370       1.90  \n",
       "3                  21.8           2119       1.90  \n",
       "4                  18.5           1775       1.93  \n",
       "2                  -9.7           2375       1.91  "
      ]
     },
     "execution_count": 3,
     "metadata": {},
     "output_type": "execute_result"
    }
   ],
   "source": [
    "player_pitch_type_list = list(aaa_total_pbp_df[aaa_total_pbp_df.pitcher_id==player_id]['pitch_type'].dropna().unique())\n",
    "\n",
    "league_pitch_type_list = list(aaa_total_pbp_df['pitch_type'].dropna().unique())\n",
    "league_tracking_df = pd.DataFrame(columns=['pitch_type', 'np', 'percent', 'avg_speed', 'avg_vertical_break', 'avg_horizontal_break', 'avg_spin_rate', 'extension'])\n",
    "\n",
    "total_count = aaa_total_pbp_df[aaa_total_pbp_df['rel_speed'].isnull()==False].shape[0]\n",
    "\n",
    "for seq, pitch_type in enumerate(player_pitch_type_list):\n",
    "\n",
    "    pitch_type_df = aaa_total_pbp_df[(aaa_total_pbp_df['pitch_type']==pitch_type) & (aaa_total_pbp_df['rel_speed'].isnull()==False) & (aaa_total_pbp_df['throws']=='R')]\n",
    "\n",
    "    avg_speed = round(pitch_type_df['rel_speed'].mean()*1.609344,1)\n",
    "    avg_horizontal_break = round(pitch_type_df['pfx_x'].mean()*-2.54,1)\n",
    "    avg_vertical_break = round(pitch_type_df['pfx_z'].mean()*2.54,1)\n",
    "    avg_spin_rate = int(pitch_type_df['spin_rate'].mean())\n",
    "    avg_extension = round(pitch_type_df['extension'].mean()*0.3048,2)\n",
    "\n",
    "    percent = round((pitch_type_df.shape[0]*100)/total_count,2)\n",
    "\n",
    "    league_tracking_df.loc[len(league_tracking_df)] = [pitch_type, pitch_type_df.shape[0],percent,  avg_speed, avg_vertical_break, avg_horizontal_break, avg_spin_rate, avg_extension]\n",
    "\n",
    "league_tracking_df.sort_values(['percent'], ascending=[False], inplace=True)\n",
    "league_tracking_df"
   ]
  },
  {
   "cell_type": "code",
   "execution_count": 39,
   "metadata": {
    "jupyter": {
     "source_hidden": true
    },
    "tags": []
   },
   "outputs": [
    {
     "data": {
      "text/html": [
       "<div>\n",
       "<style scoped>\n",
       "    .dataframe tbody tr th:only-of-type {\n",
       "        vertical-align: middle;\n",
       "    }\n",
       "\n",
       "    .dataframe tbody tr th {\n",
       "        vertical-align: top;\n",
       "    }\n",
       "\n",
       "    .dataframe thead th {\n",
       "        text-align: right;\n",
       "    }\n",
       "</style>\n",
       "<table border=\"1\" class=\"dataframe\">\n",
       "  <thead>\n",
       "    <tr style=\"text-align: right;\">\n",
       "      <th></th>\n",
       "      <th>pitch_type</th>\n",
       "      <th>first_in_zone</th>\n",
       "      <th>first_in_zone%</th>\n",
       "      <th>pitches</th>\n",
       "      <th>swing</th>\n",
       "      <th>swing%</th>\n",
       "      <th>contact</th>\n",
       "      <th>contact%</th>\n",
       "      <th>ev</th>\n",
       "    </tr>\n",
       "  </thead>\n",
       "  <tbody>\n",
       "    <tr>\n",
       "      <th>0</th>\n",
       "      <td>FF</td>\n",
       "      <td>3271</td>\n",
       "      <td>43.77</td>\n",
       "      <td>28163</td>\n",
       "      <td>13039</td>\n",
       "      <td>46.30</td>\n",
       "      <td>10426</td>\n",
       "      <td>79.96</td>\n",
       "      <td>143.817261</td>\n",
       "    </tr>\n",
       "    <tr>\n",
       "      <th>1</th>\n",
       "      <td>SL</td>\n",
       "      <td>1626</td>\n",
       "      <td>39.25</td>\n",
       "      <td>18008</td>\n",
       "      <td>8278</td>\n",
       "      <td>45.97</td>\n",
       "      <td>5394</td>\n",
       "      <td>65.16</td>\n",
       "      <td>137.308715</td>\n",
       "    </tr>\n",
       "    <tr>\n",
       "      <th>2</th>\n",
       "      <td>CU</td>\n",
       "      <td>866</td>\n",
       "      <td>37.26</td>\n",
       "      <td>7674</td>\n",
       "      <td>2905</td>\n",
       "      <td>37.86</td>\n",
       "      <td>2008</td>\n",
       "      <td>69.12</td>\n",
       "      <td>138.251096</td>\n",
       "    </tr>\n",
       "    <tr>\n",
       "      <th>3</th>\n",
       "      <td>SI</td>\n",
       "      <td>1414</td>\n",
       "      <td>42.63</td>\n",
       "      <td>11077</td>\n",
       "      <td>4912</td>\n",
       "      <td>44.34</td>\n",
       "      <td>4122</td>\n",
       "      <td>83.92</td>\n",
       "      <td>141.628651</td>\n",
       "    </tr>\n",
       "    <tr>\n",
       "      <th>4</th>\n",
       "      <td>CH</td>\n",
       "      <td>771</td>\n",
       "      <td>37.78</td>\n",
       "      <td>10911</td>\n",
       "      <td>5343</td>\n",
       "      <td>48.97</td>\n",
       "      <td>3694</td>\n",
       "      <td>69.14</td>\n",
       "      <td>139.177342</td>\n",
       "    </tr>\n",
       "  </tbody>\n",
       "</table>\n",
       "</div>"
      ],
      "text/plain": [
       "  pitch_type  first_in_zone  first_in_zone%  pitches  swing  swing%  contact  \\\n",
       "0         FF           3271           43.77    28163  13039   46.30    10426   \n",
       "1         SL           1626           39.25    18008   8278   45.97     5394   \n",
       "2         CU            866           37.26     7674   2905   37.86     2008   \n",
       "3         SI           1414           42.63    11077   4912   44.34     4122   \n",
       "4         CH            771           37.78    10911   5343   48.97     3694   \n",
       "\n",
       "   contact%          ev  \n",
       "0     79.96  143.817261  \n",
       "1     65.16  137.308715  \n",
       "2     69.12  138.251096  \n",
       "3     83.92  141.628651  \n",
       "4     69.14  139.177342  "
      ]
     },
     "metadata": {},
     "output_type": "display_data"
    }
   ],
   "source": [
    "league_sz_top = aaa_total_pbp_df['sz_top'].mean()\n",
    "league_sz_bot = aaa_total_pbp_df['sz_bot'].mean()\n",
    "league_pitch_type_df = pd.DataFrame(columns=['pitch_type', 'first_in_zone', 'first_in_zone%', 'pitches', 'swing', 'swing%', 'contact', 'contact%', 'ev'])\n",
    "\n",
    "for pitch_seq, pitch_type in enumerate(player_pitch_type_list):\n",
    "    pitch_type_df = aaa_total_pbp_df[(aaa_total_pbp_df['pitch_type']==pitch_type)]\n",
    "\n",
    "    first_pitches = aaa_total_pbp_df[(aaa_total_pbp_df['pitch_type']==pitch_type) & (aaa_total_pbp_df['pitch_num']==1)]\n",
    "    first_in_zone= aaa_total_pbp_df[(aaa_total_pbp_df['pitch_type']==pitch_type) & \\\n",
    "                                    (\n",
    "                                        ((aaa_total_pbp_df['px']>=-0.70835) & (aaa_total_pbp_df['px']<=0.70835))&\n",
    "                                        ((aaa_total_pbp_df['pz']>=league_sz_bot) & (aaa_total_pbp_df['pz']<=league_sz_top))\n",
    "                                    )&\\\n",
    "                                    (aaa_total_pbp_df['pitch_num']==1)\n",
    "                                    ]\n",
    "    first_in_zone_percent = round((first_in_zone.shape[0]*100)/first_pitches.shape[0],2)\n",
    "\n",
    "    swing_pitches = aaa_total_pbp_df[(aaa_total_pbp_df['pitch_type']==pitch_type) &\n",
    "                                    ((aaa_total_pbp_df['description']=='swinging_strike')|\n",
    "                                    (aaa_total_pbp_df['description']=='in_play_out')|\n",
    "                                    (aaa_total_pbp_df['description']=='in_play_no_out')|\n",
    "                                    (aaa_total_pbp_df['description']=='foul_tip')|\n",
    "                                    (aaa_total_pbp_df['description']=='foul')|\n",
    "                                    (aaa_total_pbp_df['description']=='in_play_run')|\n",
    "                                    (aaa_total_pbp_df['description']=='swinging_strike_blocked')|\n",
    "                                    (aaa_total_pbp_df['description']=='foul_bunt'))]\n",
    "\n",
    "    swing_percent = round((swing_pitches.shape[0]*100)/pitch_type_df.shape[0],2)\n",
    "    \n",
    "    miss_pitches = swing_pitches[(swing_pitches['pitch_type']==pitch_type) &\n",
    "                                ((swing_pitches.description=='swinging_strike')|\n",
    "                                (swing_pitches.description=='swinging_strike_blocked')|\n",
    "                                (swing_pitches.description=='miss_bunt'))]\n",
    "    \n",
    "    try:\n",
    "        miss_percent = round((miss_pitches.shape[0]*100)/swing_pitches.shape[0],2)\n",
    "    except:\n",
    "        miss_percent = 0\n",
    "    \n",
    "    ev = mean(list(aaa_total_pbp_df[(aaa_total_pbp_df['pitch_type']==pitch_type)]['exit_speed'].dropna()))*1.609344\n",
    "    \n",
    "    league_pitch_type_df.loc[len(league_pitch_type_df)] = [pitch_type, first_in_zone.shape[0], first_in_zone_percent, pitch_type_df.shape[0], swing_pitches.shape[0], swing_percent, swing_pitches.shape[0]-miss_pitches.shape[0], 100-miss_percent, ev]\n",
    "\n",
    "display(league_pitch_type_df)"
   ]
  },
  {
   "cell_type": "code",
   "execution_count": null,
   "metadata": {},
   "outputs": [],
   "source": []
  },
  {
   "cell_type": "markdown",
   "metadata": {},
   "source": [
    "### 2) 선수"
   ]
  },
  {
   "cell_type": "markdown",
   "metadata": {},
   "source": [
    "#### (1). 전체적인 수치"
   ]
  },
  {
   "cell_type": "code",
   "execution_count": 27,
   "metadata": {
    "jupyter": {
     "source_hidden": true
    },
    "tags": []
   },
   "outputs": [
    {
     "data": {
      "text/html": [
       "<div>\n",
       "<style scoped>\n",
       "    .dataframe tbody tr th:only-of-type {\n",
       "        vertical-align: middle;\n",
       "    }\n",
       "\n",
       "    .dataframe tbody tr th {\n",
       "        vertical-align: top;\n",
       "    }\n",
       "\n",
       "    .dataframe thead th {\n",
       "        text-align: right;\n",
       "    }\n",
       "</style>\n",
       "<table border=\"1\" class=\"dataframe\">\n",
       "  <thead>\n",
       "    <tr style=\"text-align: right;\">\n",
       "      <th></th>\n",
       "      <th>pitch_type</th>\n",
       "      <th>np</th>\n",
       "      <th>percent</th>\n",
       "      <th>avg_speed</th>\n",
       "      <th>max_speed</th>\n",
       "      <th>avg_vertical_break</th>\n",
       "      <th>avg_horizontal_break</th>\n",
       "      <th>avg_spin_rate</th>\n",
       "      <th>extension</th>\n",
       "    </tr>\n",
       "  </thead>\n",
       "  <tbody>\n",
       "    <tr>\n",
       "      <th>1</th>\n",
       "      <td>SL</td>\n",
       "      <td>158</td>\n",
       "      <td>24.73</td>\n",
       "      <td>138.8</td>\n",
       "      <td>143.9</td>\n",
       "      <td>8.9</td>\n",
       "      <td>-4.6</td>\n",
       "      <td>2314</td>\n",
       "      <td>1.95</td>\n",
       "    </tr>\n",
       "    <tr>\n",
       "      <th>0</th>\n",
       "      <td>FF</td>\n",
       "      <td>154</td>\n",
       "      <td>24.10</td>\n",
       "      <td>149.1</td>\n",
       "      <td>152.2</td>\n",
       "      <td>22.6</td>\n",
       "      <td>10.5</td>\n",
       "      <td>2348</td>\n",
       "      <td>1.95</td>\n",
       "    </tr>\n",
       "    <tr>\n",
       "      <th>3</th>\n",
       "      <td>SI</td>\n",
       "      <td>152</td>\n",
       "      <td>23.79</td>\n",
       "      <td>147.0</td>\n",
       "      <td>151.3</td>\n",
       "      <td>21.3</td>\n",
       "      <td>19.1</td>\n",
       "      <td>2240</td>\n",
       "      <td>1.95</td>\n",
       "    </tr>\n",
       "    <tr>\n",
       "      <th>4</th>\n",
       "      <td>CH</td>\n",
       "      <td>120</td>\n",
       "      <td>18.78</td>\n",
       "      <td>138.9</td>\n",
       "      <td>145.2</td>\n",
       "      <td>14.2</td>\n",
       "      <td>18.0</td>\n",
       "      <td>1927</td>\n",
       "      <td>1.96</td>\n",
       "    </tr>\n",
       "    <tr>\n",
       "      <th>2</th>\n",
       "      <td>CU</td>\n",
       "      <td>52</td>\n",
       "      <td>8.14</td>\n",
       "      <td>126.5</td>\n",
       "      <td>138.1</td>\n",
       "      <td>-2.8</td>\n",
       "      <td>-8.0</td>\n",
       "      <td>2445</td>\n",
       "      <td>1.93</td>\n",
       "    </tr>\n",
       "  </tbody>\n",
       "</table>\n",
       "</div>"
      ],
      "text/plain": [
       "  pitch_type   np  percent  avg_speed  max_speed  avg_vertical_break  \\\n",
       "1         SL  158    24.73      138.8      143.9                 8.9   \n",
       "0         FF  154    24.10      149.1      152.2                22.6   \n",
       "3         SI  152    23.79      147.0      151.3                21.3   \n",
       "4         CH  120    18.78      138.9      145.2                14.2   \n",
       "2         CU   52     8.14      126.5      138.1                -2.8   \n",
       "\n",
       "   avg_horizontal_break  avg_spin_rate  extension  \n",
       "1                  -4.6           2314       1.95  \n",
       "0                  10.5           2348       1.95  \n",
       "3                  19.1           2240       1.95  \n",
       "4                  18.0           1927       1.96  \n",
       "2                  -8.0           2445       1.93  "
      ]
     },
     "execution_count": 27,
     "metadata": {},
     "output_type": "execute_result"
    }
   ],
   "source": [
    "player_pitch_type_list = list(aaa_total_pbp_df[aaa_total_pbp_df.pitcher_id==player_id]['pitch_type'].dropna().unique())\n",
    "pitcher_tracking_df = pd.DataFrame(columns=['pitch_type', 'np', 'percent',  'avg_speed', 'max_speed', 'avg_vertical_break', 'avg_horizontal_break', 'avg_spin_rate', 'extension'])\n",
    "player_df = aaa_total_pbp_df[(aaa_total_pbp_df['pitcher_id']==player_id)]\n",
    "player_pitch_count = aaa_total_pbp_df[aaa_total_pbp_df.pitcher_id==player_id].shape[0]\n",
    "\n",
    "for pitch_type in player_pitch_type_list:\n",
    "\n",
    "    pitch_type_df = aaa_total_pbp_df[(aaa_total_pbp_df['pitch_type']==pitch_type) & (aaa_total_pbp_df['pitcher_id']==player_id)]\n",
    "    avg_speed = round(pitch_type_df['rel_speed'].mean()*1.609344,1)\n",
    "    max_speed = round(pitch_type_df['rel_speed'].max()*1.609344,1)\n",
    "    avg_horizontal_break = round(pitch_type_df['pfx_x'].mean()*-2.54,1)\n",
    "    avg_vertical_break = round(pitch_type_df['pfx_z'].mean()*2.54,1)\n",
    "    avg_spin_rate = int(pitch_type_df['spin_rate'].mean())\n",
    "    avg_extension = round(pitch_type_df['extension'].mean()*0.3048,2)\n",
    "\n",
    "    percent = round((pitch_type_df.shape[0]*100)/player_pitch_count,2)\n",
    "\n",
    "    pitcher_tracking_df.loc[len(pitcher_tracking_df)] = [pitch_type, pitch_type_df.shape[0], percent, avg_speed, max_speed, avg_vertical_break, avg_horizontal_break, avg_spin_rate, avg_extension]\n",
    "\n",
    "pitcher_tracking_df.sort_values(['percent'], ascending=[False], inplace=True)\n",
    "pitcher_tracking_df"
   ]
  },
  {
   "cell_type": "code",
   "execution_count": 41,
   "metadata": {
    "jupyter": {
     "source_hidden": true
    },
    "tags": []
   },
   "outputs": [
    {
     "data": {
      "text/html": [
       "<div>\n",
       "<style scoped>\n",
       "    .dataframe tbody tr th:only-of-type {\n",
       "        vertical-align: middle;\n",
       "    }\n",
       "\n",
       "    .dataframe tbody tr th {\n",
       "        vertical-align: top;\n",
       "    }\n",
       "\n",
       "    .dataframe thead th {\n",
       "        text-align: right;\n",
       "    }\n",
       "</style>\n",
       "<table border=\"1\" class=\"dataframe\">\n",
       "  <thead>\n",
       "    <tr style=\"text-align: right;\">\n",
       "      <th></th>\n",
       "      <th>pitch_type</th>\n",
       "      <th>first_in_zone</th>\n",
       "      <th>first_in_zone%</th>\n",
       "      <th>pitches</th>\n",
       "      <th>swing</th>\n",
       "      <th>swing%</th>\n",
       "      <th>contact</th>\n",
       "      <th>contact%</th>\n",
       "      <th>ev</th>\n",
       "    </tr>\n",
       "  </thead>\n",
       "  <tbody>\n",
       "    <tr>\n",
       "      <th>0</th>\n",
       "      <td>FF</td>\n",
       "      <td>15</td>\n",
       "      <td>38.46</td>\n",
       "      <td>154</td>\n",
       "      <td>81</td>\n",
       "      <td>52.60</td>\n",
       "      <td>72</td>\n",
       "      <td>88.89</td>\n",
       "      <td>141.926259</td>\n",
       "    </tr>\n",
       "    <tr>\n",
       "      <th>1</th>\n",
       "      <td>SL</td>\n",
       "      <td>13</td>\n",
       "      <td>36.11</td>\n",
       "      <td>158</td>\n",
       "      <td>70</td>\n",
       "      <td>44.30</td>\n",
       "      <td>40</td>\n",
       "      <td>57.14</td>\n",
       "      <td>146.902453</td>\n",
       "    </tr>\n",
       "    <tr>\n",
       "      <th>2</th>\n",
       "      <td>CU</td>\n",
       "      <td>9</td>\n",
       "      <td>36.00</td>\n",
       "      <td>52</td>\n",
       "      <td>20</td>\n",
       "      <td>38.46</td>\n",
       "      <td>16</td>\n",
       "      <td>80.00</td>\n",
       "      <td>143.304768</td>\n",
       "    </tr>\n",
       "    <tr>\n",
       "      <th>3</th>\n",
       "      <td>SI</td>\n",
       "      <td>15</td>\n",
       "      <td>35.71</td>\n",
       "      <td>152</td>\n",
       "      <td>82</td>\n",
       "      <td>53.95</td>\n",
       "      <td>65</td>\n",
       "      <td>79.27</td>\n",
       "      <td>134.331944</td>\n",
       "    </tr>\n",
       "    <tr>\n",
       "      <th>4</th>\n",
       "      <td>CH</td>\n",
       "      <td>9</td>\n",
       "      <td>40.91</td>\n",
       "      <td>120</td>\n",
       "      <td>61</td>\n",
       "      <td>50.83</td>\n",
       "      <td>44</td>\n",
       "      <td>72.13</td>\n",
       "      <td>139.346200</td>\n",
       "    </tr>\n",
       "  </tbody>\n",
       "</table>\n",
       "</div>"
      ],
      "text/plain": [
       "  pitch_type  first_in_zone  first_in_zone%  pitches  swing  swing%  contact  \\\n",
       "0         FF             15           38.46      154     81   52.60       72   \n",
       "1         SL             13           36.11      158     70   44.30       40   \n",
       "2         CU              9           36.00       52     20   38.46       16   \n",
       "3         SI             15           35.71      152     82   53.95       65   \n",
       "4         CH              9           40.91      120     61   50.83       44   \n",
       "\n",
       "   contact%          ev  \n",
       "0     88.89  141.926259  \n",
       "1     57.14  146.902453  \n",
       "2     80.00  143.304768  \n",
       "3     79.27  134.331944  \n",
       "4     72.13  139.346200  "
      ]
     },
     "metadata": {},
     "output_type": "display_data"
    }
   ],
   "source": [
    "player_sz_top = player_df['sz_top'].mean()\n",
    "player_sz_bot = player_df['sz_bot'].mean()\n",
    "player_pitch_type_df = pd.DataFrame(columns=['pitch_type', 'first_in_zone', 'first_in_zone%', 'pitches', 'swing', 'swing%', 'contact', 'contact%', 'ev'])\n",
    "\n",
    "for pitch_seq, pitch_type in enumerate(player_pitch_type_list):\n",
    "    pitch_type_df = player_df[(player_df['pitch_type']==pitch_type)]\n",
    "\n",
    "    first_pitches = player_df[(player_df['pitch_type']==pitch_type) & (player_df['pitch_num']==1)]\n",
    "    first_in_zone= player_df[(player_df['pitch_type']==pitch_type) & \\\n",
    "                                    (\n",
    "                                        ((player_df['px']>=-0.70835) & (player_df['px']<=0.70835))&\n",
    "                                        ((player_df['pz']>=player_sz_bot) & (player_df['pz']<=player_sz_top))\n",
    "                                    )&\\\n",
    "                                    (player_df['pitch_num']==1)\n",
    "                                    ]\n",
    "    first_in_zone_percent = round((first_in_zone.shape[0]*100)/first_pitches.shape[0],2)\n",
    "\n",
    "    swing_pitches = player_df[(player_df['pitch_type']==pitch_type) &\n",
    "                                    ((player_df['description']=='swinging_strike')|\n",
    "                                    (player_df['description']=='in_play_out')|\n",
    "                                    (player_df['description']=='in_play_no_out')|\n",
    "                                    (player_df['description']=='foul_tip')|\n",
    "                                    (player_df['description']=='foul')|\n",
    "                                    (player_df['description']=='in_play_run')|\n",
    "                                    (player_df['description']=='swinging_strike_blocked')|\n",
    "                                    (player_df['description']=='foul_bunt'))]\n",
    "\n",
    "    swing_percent = round((swing_pitches.shape[0]*100)/pitch_type_df.shape[0],2)\n",
    "    \n",
    "    miss_pitches = swing_pitches[(swing_pitches['pitch_type']==pitch_type) &\n",
    "                                ((swing_pitches.description=='swinging_strike')|\n",
    "                                (swing_pitches.description=='swinging_strike_blocked')|\n",
    "                                (swing_pitches.description=='miss_bunt'))]\n",
    "    \n",
    "    try:\n",
    "        miss_percent = round((miss_pitches.shape[0]*100)/swing_pitches.shape[0],2)\n",
    "    except:\n",
    "        miss_percent = 0\n",
    "\n",
    "    ev = mean(list(player_df[(player_df['pitch_type']==pitch_type)]['exit_speed'].dropna()))*1.609344\n",
    "    \n",
    "    player_pitch_type_df.loc[len(player_pitch_type_df)] = [pitch_type, first_in_zone.shape[0], first_in_zone_percent, pitch_type_df.shape[0], swing_pitches.shape[0], swing_percent, swing_pitches.shape[0]-miss_pitches.shape[0], 100-miss_percent, ev]\n",
    "\n",
    "display(player_pitch_type_df)"
   ]
  },
  {
   "cell_type": "markdown",
   "metadata": {},
   "source": [
    "#### (2) 무브먼트"
   ]
  },
  {
   "cell_type": "code",
   "execution_count": 5,
   "metadata": {
    "jupyter": {
     "source_hidden": true
    },
    "tags": []
   },
   "outputs": [
    {
     "data": {
      "text/plain": [
       "(-40.0, 40.0)"
      ]
     },
     "execution_count": 5,
     "metadata": {},
     "output_type": "execute_result"
    },
    {
     "data": {
      "image/png": "[encoded data removed]",
      "text/plain": [
       "<Figure size 432x288 with 1 Axes>"
      ]
     },
     "metadata": {
      "needs_background": "light"
     },
     "output_type": "display_data"
    }
   ],
   "source": [
    "player_df['pfx_x_cm'] = player_df['pfx_x']*-2.54\n",
    "player_df['pfx_z_cm'] = player_df['pfx_z']*2.54\n",
    "\n",
    "color_dict = {\n",
    "\n",
    "    \"FF\":'red',\n",
    "    \"SI\":'#ff00ff',\n",
    "    \"SL\":'blue',\n",
    "    \"CH\":'#679e35',\n",
    "    \"CU\":'orange'\n",
    "\n",
    "}\n",
    "\n",
    "ax = sns.scatterplot(x='pfx_x_cm', y='pfx_z_cm', hue='pitch_type', palette=color_dict, data=player_df, alpha=0.6)\n",
    "sns.scatterplot(x='avg_horizontal_break', y='avg_vertical_break', data=league_tracking_df, hue='pitch_type', legend=False, s=150, ax=ax, palette=color_dict)\n",
    "ax.set_xlim([-40,40])\n",
    "ax.set_ylim([-40,40])"
   ]
  },
  {
   "cell_type": "markdown",
   "metadata": {},
   "source": [
    "#### (3). 좌/우 타자에 따른 구종구사율"
   ]
  },
  {
   "cell_type": "code",
   "execution_count": 42,
   "metadata": {
    "jupyter": {
     "source_hidden": true
    },
    "tags": []
   },
   "outputs": [
    {
     "name": "stdout",
     "output_type": "stream",
     "text": [
      "1. 우타자 상대 구사율\n"
     ]
    },
    {
     "data": {
      "text/html": [
       "<div>\n",
       "<style scoped>\n",
       "    .dataframe tbody tr th:only-of-type {\n",
       "        vertical-align: middle;\n",
       "    }\n",
       "\n",
       "    .dataframe tbody tr th {\n",
       "        vertical-align: top;\n",
       "    }\n",
       "\n",
       "    .dataframe thead th {\n",
       "        text-align: right;\n",
       "    }\n",
       "</style>\n",
       "<table border=\"1\" class=\"dataframe\">\n",
       "  <thead>\n",
       "    <tr style=\"text-align: right;\">\n",
       "      <th></th>\n",
       "      <th>pitch_type</th>\n",
       "      <th>np</th>\n",
       "      <th>percent</th>\n",
       "      <th>swing%</th>\n",
       "      <th>contact%</th>\n",
       "    </tr>\n",
       "  </thead>\n",
       "  <tbody>\n",
       "    <tr>\n",
       "      <th>1</th>\n",
       "      <td>SL</td>\n",
       "      <td>132</td>\n",
       "      <td>31.65</td>\n",
       "      <td>43.18</td>\n",
       "      <td>52.63</td>\n",
       "    </tr>\n",
       "    <tr>\n",
       "      <th>3</th>\n",
       "      <td>SI</td>\n",
       "      <td>109</td>\n",
       "      <td>26.14</td>\n",
       "      <td>56.88</td>\n",
       "      <td>82.26</td>\n",
       "    </tr>\n",
       "    <tr>\n",
       "      <th>0</th>\n",
       "      <td>FF</td>\n",
       "      <td>101</td>\n",
       "      <td>24.22</td>\n",
       "      <td>56.44</td>\n",
       "      <td>87.72</td>\n",
       "    </tr>\n",
       "    <tr>\n",
       "      <th>4</th>\n",
       "      <td>CH</td>\n",
       "      <td>51</td>\n",
       "      <td>12.23</td>\n",
       "      <td>45.10</td>\n",
       "      <td>69.57</td>\n",
       "    </tr>\n",
       "    <tr>\n",
       "      <th>2</th>\n",
       "      <td>CU</td>\n",
       "      <td>24</td>\n",
       "      <td>5.76</td>\n",
       "      <td>37.50</td>\n",
       "      <td>77.78</td>\n",
       "    </tr>\n",
       "  </tbody>\n",
       "</table>\n",
       "</div>"
      ],
      "text/plain": [
       "  pitch_type   np  percent  swing%  contact%\n",
       "1         SL  132    31.65   43.18     52.63\n",
       "3         SI  109    26.14   56.88     82.26\n",
       "0         FF  101    24.22   56.44     87.72\n",
       "4         CH   51    12.23   45.10     69.57\n",
       "2         CU   24     5.76   37.50     77.78"
      ]
     },
     "metadata": {},
     "output_type": "display_data"
    },
    {
     "name": "stdout",
     "output_type": "stream",
     "text": [
      "2. 좌타자 상대 구사율\n"
     ]
    },
    {
     "data": {
      "text/html": [
       "<div>\n",
       "<style scoped>\n",
       "    .dataframe tbody tr th:only-of-type {\n",
       "        vertical-align: middle;\n",
       "    }\n",
       "\n",
       "    .dataframe tbody tr th {\n",
       "        vertical-align: top;\n",
       "    }\n",
       "\n",
       "    .dataframe thead th {\n",
       "        text-align: right;\n",
       "    }\n",
       "</style>\n",
       "<table border=\"1\" class=\"dataframe\">\n",
       "  <thead>\n",
       "    <tr style=\"text-align: right;\">\n",
       "      <th></th>\n",
       "      <th>pitch_type</th>\n",
       "      <th>np</th>\n",
       "      <th>percent</th>\n",
       "      <th>swing%</th>\n",
       "      <th>contact%</th>\n",
       "    </tr>\n",
       "  </thead>\n",
       "  <tbody>\n",
       "    <tr>\n",
       "      <th>4</th>\n",
       "      <td>CH</td>\n",
       "      <td>69</td>\n",
       "      <td>31.51</td>\n",
       "      <td>55.07</td>\n",
       "      <td>73.68</td>\n",
       "    </tr>\n",
       "    <tr>\n",
       "      <th>0</th>\n",
       "      <td>FF</td>\n",
       "      <td>53</td>\n",
       "      <td>24.20</td>\n",
       "      <td>45.28</td>\n",
       "      <td>91.67</td>\n",
       "    </tr>\n",
       "    <tr>\n",
       "      <th>3</th>\n",
       "      <td>SI</td>\n",
       "      <td>43</td>\n",
       "      <td>19.63</td>\n",
       "      <td>46.51</td>\n",
       "      <td>70.00</td>\n",
       "    </tr>\n",
       "    <tr>\n",
       "      <th>2</th>\n",
       "      <td>CU</td>\n",
       "      <td>28</td>\n",
       "      <td>12.79</td>\n",
       "      <td>39.29</td>\n",
       "      <td>81.82</td>\n",
       "    </tr>\n",
       "    <tr>\n",
       "      <th>1</th>\n",
       "      <td>SL</td>\n",
       "      <td>26</td>\n",
       "      <td>11.87</td>\n",
       "      <td>50.00</td>\n",
       "      <td>76.92</td>\n",
       "    </tr>\n",
       "  </tbody>\n",
       "</table>\n",
       "</div>"
      ],
      "text/plain": [
       "  pitch_type  np  percent  swing%  contact%\n",
       "4         CH  69    31.51   55.07     73.68\n",
       "0         FF  53    24.20   45.28     91.67\n",
       "3         SI  43    19.63   46.51     70.00\n",
       "2         CU  28    12.79   39.29     81.82\n",
       "1         SL  26    11.87   50.00     76.92"
      ]
     },
     "metadata": {},
     "output_type": "display_data"
    }
   ],
   "source": [
    "for seq, stands in enumerate(['R', 'L']):\n",
    "    total_count = aaa_total_pbp_df[(aaa_total_pbp_df['rel_speed'].isnull()==False) & (aaa_total_pbp_df['stands']==stands) & (aaa_total_pbp_df['pitcher_id']==player_id)].shape[0]\n",
    "    stand_pitcher_tracking_df = pd.DataFrame(columns=['pitch_type', 'np', 'percent', 'swing%', 'contact%'])\n",
    "    for pitch_type in player_pitch_type_list:\n",
    "        pitch_type_df = aaa_total_pbp_df[(aaa_total_pbp_df['pitch_type']==pitch_type) & (aaa_total_pbp_df['pitcher_id']==player_id) & (aaa_total_pbp_df['stands']==stands)]\n",
    "        avg_speed = round(pitch_type_df['rel_speed'].mean()*1.609344,1)\n",
    "\n",
    "        try:\n",
    "            percent = round((pitch_type_df.shape[0]*100)/total_count,2)\n",
    "        except:\n",
    "            percent = 0\n",
    "\n",
    "        swing_pitches = pitch_type_df[(pitch_type_df['pitch_type']==pitch_type) &\n",
    "                                        ((pitch_type_df['description']=='swinging_strike')|\n",
    "                                        (pitch_type_df['description']=='in_play_out')|\n",
    "                                        (pitch_type_df['description']=='in_play_no_out')|\n",
    "                                        (pitch_type_df['description']=='foul_tip')|\n",
    "                                        (pitch_type_df['description']=='foul')|\n",
    "                                        (pitch_type_df['description']=='in_play_run')|\n",
    "                                        (pitch_type_df['description']=='swinging_strike_blocked')|\n",
    "                                        (pitch_type_df['description']=='foul_bunt'))]\n",
    "\n",
    "        swing_percent = round((swing_pitches.shape[0]*100)/pitch_type_df.shape[0],2)\n",
    "        \n",
    "        miss_pitches = swing_pitches[(swing_pitches['pitch_type']==pitch_type) &\n",
    "                                    ((swing_pitches.description=='swinging_strike')|\n",
    "                                    (swing_pitches.description=='swinging_strike_blocked')|\n",
    "                                    (swing_pitches.description=='miss_bunt'))]\n",
    "        \n",
    "        try:\n",
    "            miss_percent = round((miss_pitches.shape[0]*100)/swing_pitches.shape[0],2)\n",
    "        except:\n",
    "            miss_percent = 0\n",
    "\n",
    "        stand_pitcher_tracking_df.loc[len(stand_pitcher_tracking_df)] = [pitch_type, pitch_type_df.shape[0], percent, swing_percent, 100-miss_percent]\n",
    "\n",
    "    stand_pitcher_tracking_df.sort_values(['percent'], ascending=[False], inplace=True)\n",
    "    print(\"{}. {}타자 상대 구사율\".format(seq+1,\"좌\" if stands=='L' else \"우\")) \n",
    "    display(stand_pitcher_tracking_df)"
   ]
  },
  {
   "cell_type": "markdown",
   "metadata": {},
   "source": [
    "#### (4) 로케이션"
   ]
  },
  {
   "cell_type": "code",
   "execution_count": 45,
   "metadata": {
    "jupyter": {
     "source_hidden": true
    },
    "slideshow": {
     "slide_type": "notes"
    },
    "tags": []
   },
   "outputs": [
    {
     "data": {
      "image/png": "[encoded data removed]",
      "text/plain": [
       "<Figure size 1440x576 with 10 Axes>"
      ]
     },
     "metadata": {
      "needs_background": "light"
     },
     "output_type": "display_data"
    }
   ],
   "source": [
    "import matplotlib.pyplot as plt\n",
    "fig, axes = plt.subplots(2, len(player_pitch_type_list),figsize=(20,8), sharex=True, sharey=True)\n",
    "sz_top = player_df['sz_top'].mean()\n",
    "sz_bot = player_df['sz_bot'].mean()\n",
    "\n",
    "for seq, stands in enumerate(['R', 'L']):\n",
    "    for pitch_seq, pitch_type in enumerate(player_pitch_type_list):\n",
    "        pitch_type_df = player_df[(player_df['pitch_type']==pitch_type) & (player_df['stands']==stands)]\n",
    "        \n",
    "        sns.kdeplot(x='px', y='pz', fill=True, alpha=.8, thresh=.5, data=pitch_type_df, ax=axes[seq, pitch_seq], color=color_dict[pitch_type])\n",
    "        # sns.scatterplot(x='px', y='pz', data=pitch_type_df, ax=axes[seq, pitch_seq], color=color_dict[pitch_type])\n",
    "        axes[seq, pitch_seq].plot([0.70835,0.70835], [sz_bot,sz_top], linewidth=2, color='black')\n",
    "        axes[seq, pitch_seq].plot([-0.70835,0.70835], [sz_top,sz_top], linewidth=2, color='black')\n",
    "        axes[seq, pitch_seq].plot([-0.70835,-0.70835], [sz_top,sz_bot], linewidth=2, color='black')\n",
    "        axes[seq, pitch_seq].plot([-0.70835,0.70835], [sz_bot,sz_bot], linewidth=2, color='black')\n",
    "\n",
    "        axes[seq, pitch_seq].set_xlim([-2.5,2.5])\n",
    "        axes[seq, pitch_seq].set_ylim([0,5])\n",
    "        axes[seq, pitch_seq].get_yaxis().set_visible(False)\n",
    "        axes[seq, pitch_seq].get_xaxis().set_visible(False)\n",
    "\n",
    "        axes[seq, pitch_seq].set_title(\"{}(vs{})\".format(pitch_type, stands))"
   ]
  }
 ],
 "metadata": {
  "kernelspec": {
   "display_name": "Python 3 (ipykernel)",
   "language": "python",
   "name": "python3"
  },
  "language_info": {
   "codemirror_mode": {
    "name": "ipython",
    "version": 3
   },
   "file_extension": ".py",
   "mimetype": "text/x-python",
   "name": "python",
   "nbconvert_exporter": "python",
   "pygments_lexer": "ipython3",
   "version": "3.8.13"
  },
  "toc-autonumbering": false,
  "toc-showcode": false,
  "toc-showmarkdowntxt": true,
  "toc-showtags": false,
  "vscode": {
   "interpreter": {
    "hash": "463f41c6cbc49412e8ae81754b0e187e404406185bd6085a39fb1d97e3d00037"
   }
  }
 },
 "nbformat": 4,
 "nbformat_minor": 4
}
